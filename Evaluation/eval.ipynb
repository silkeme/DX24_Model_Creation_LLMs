{
 "cells": [
  {
   "cell_type": "code",
   "execution_count": 1,
   "id": "2679095e-617f-4fc9-805f-d8e95040e7d7",
   "metadata": {},
   "outputs": [],
   "source": [
    "import pandas as pd"
   ]
  },
  {
   "cell_type": "code",
   "execution_count": 14,
   "id": "b1e40293-30b8-4694-aff0-2566d4496f94",
   "metadata": {},
   "outputs": [],
   "source": [
    "df_s1 = pd.read_csv('Evaluation/eval_results/S1_results.csv', sep=';')\n",
    "df_s2 = pd.read_csv('Evaluation/eval_results/S2_results.csv', sep=';')\n",
    "df_s3 = pd.read_csv('eval_results/S3_results.csv', sep=';')"
   ]
  },
  {
   "cell_type": "code",
   "execution_count": 5,
   "id": "6284e090-4ecd-4f73-86b3-6b8417515005",
   "metadata": {},
   "outputs": [],
   "source": [
    "def report(df):\n",
    "    df['ResGen percentage'] = (df['Number of residual generators']/df['Number of MSOs'])\n",
    "    df['residuals percentage'] = (df['Number of computed residuals']/df['Number of residual generators'])\n",
    "    print('No correctly imported: ', len(df))\n",
    "    print(f'Number of MSOs: {df[\"Number of MSOs\"].mean():.4f}')\n",
    "    print(f'Residual generators: {df[\"ResGen percentage\"].mean():.4f}')\n",
    "    print(f'residuals percentage {df[\"residuals percentage\"].mean():.4f}')\n",
    "    for col in df.columns:\n",
    "        if col.endswith('detected'):\n",
    "            print(f'{col} {df[col].mean():.4f}')\n",
    "    value_counts = df['ambiguity groups'].value_counts()\n",
    "    print(value_counts.apply(lambda x: f'{x/len(df):.4f}'))"
   ]
  },
  {
   "cell_type": "code",
   "execution_count": 12,
   "id": "8ed19a4a",
   "metadata": {},
   "outputs": [
    {
     "name": "stdout",
     "output_type": "stream",
     "text": [
      "No correctly imported:  93\n",
      "Number of MSOs: 5.3978\n",
      "Residual generators: 0.9830\n",
      "residuals percentage 0.9748\n",
      "valve0 detected 0.8495\n",
      "tank1leak detected 0.8710\n",
      "ambiguity groups\n",
      "[{'S1_valve0'}, {'S1_tank1leak'}, {'NF'}]    0.7419\n",
      "[{'S1_valve0', 'NF'}, {'S1_tank1leak'}]      0.1183\n",
      "[{'S1_valve0'}, {'NF', 'S1_tank1leak'}]      0.0968\n",
      "[{'S1_valve0', 'NF', 'S1_tank1leak'}]        0.0323\n",
      "[{'S1_valve0', 'S1_tank1leak'}, {'NF'}]      0.0108\n",
      "Name: count, dtype: object\n"
     ]
    }
   ],
   "source": [
    "report(df_s1)"
   ]
  },
  {
   "cell_type": "code",
   "execution_count": 15,
   "id": "5a2c744f-197d-4127-8e62-1f96c512608e",
   "metadata": {},
   "outputs": [
    {
     "name": "stdout",
     "output_type": "stream",
     "text": [
      "No correctly imported:  85\n",
      "Number of MSOs: 22.2706\n",
      "Residual generators: 0.2247\n",
      "residuals percentage 1.0000\n",
      "tank1leak detected 0.0235\n",
      "tank2leak detected 0.2706\n",
      "ambiguity groups\n",
      "[{'NF', 'S2_tank2leak', 'S2_tank1leak'}]        0.7294\n",
      "[{'NF', 'S2_tank1leak'}, {'S2_tank2leak'}]      0.2471\n",
      "[{'S2_tank1leak'}, {'S2_tank2leak'}, {'NF'}]    0.0235\n",
      "Name: count, dtype: object\n"
     ]
    }
   ],
   "source": [
    "report(df_s2)"
   ]
  },
  {
   "cell_type": "code",
   "execution_count": 8,
   "id": "50dad9b2-501a-474a-be92-74669f53bdc4",
   "metadata": {},
   "outputs": [
    {
     "name": "stdout",
     "output_type": "stream",
     "text": [
      "No correctly imported:  85\n",
      "Number of MSOs: 22.2706\n",
      "Residual generators: 0.1590\n",
      "residuals percentage 1.0000\n",
      "tank1leak detected 0.0000\n",
      "tank2leak detected 0.0941\n",
      "ambiguity groups\n",
      "[{'S2_tank1leak', 'S2_tank2leak', 'NF'}]      0.9059\n",
      "[{'S2_tank1leak', 'NF'}, {'S2_tank2leak'}]    0.0941\n",
      "Name: count, dtype: object\n"
     ]
    }
   ],
   "source": [
    "report(df_s2)"
   ]
  },
  {
   "cell_type": "code",
   "execution_count": 12,
   "id": "f28ce709-4d3c-4712-9825-5bdc2f5dea8c",
   "metadata": {},
   "outputs": [
    {
     "name": "stdout",
     "output_type": "stream",
     "text": [
      "No correctly imported:  83\n",
      "Number of MSOs: 48.6988\n",
      "Residual generators: 0.2227\n",
      "residuals percentage 0.6676\n",
      "pipe4 detected 0.2771\n",
      "tank2leak detected 0.0000\n",
      "valve3 detected 0.2651\n",
      "valve6 detected 0.2410\n",
      "ambiguity groups\n",
      "[{'S3_valve6', 'S3_tank2leak', 'S3_pipe4', 'NF', 'S3_valve3'}]          0.7229\n",
      "[{'S3_pipe4', 'S3_valve6', 'S3_valve3'}, {'NF', 'S3_tank2leak'}]        0.0843\n",
      "[{'S3_pipe4', 'S3_valve6'}, {'NF', 'S3_tank2leak'}, {'S3_valve3'}]      0.0843\n",
      "[{'S3_pipe4'}, {'NF', 'S3_tank2leak'}, {'S3_valve3'}, {'S3_valve6'}]    0.0602\n",
      "[{'S3_pipe4', 'S3_valve3'}, {'S3_valve6', 'S3_tank2leak', 'NF'}]        0.0241\n",
      "[{'S3_pipe4'}, {'S3_valve6', 'S3_tank2leak', 'NF'}, {'S3_valve3'}]      0.0120\n",
      "[{'S3_pipe4', 'S3_valve6'}, {'NF', 'S3_valve3', 'S3_tank2leak'}]        0.0120\n",
      "Name: count, dtype: object\n"
     ]
    }
   ],
   "source": [
    "report(df_s3)"
   ]
  },
  {
   "cell_type": "code",
   "execution_count": null,
   "id": "b20e7f62",
   "metadata": {},
   "outputs": [],
   "source": []
  }
 ],
 "metadata": {
  "kernelspec": {
   "display_name": "ice",
   "language": "python",
   "name": "ice"
  },
  "language_info": {
   "codemirror_mode": {
    "name": "ipython",
    "version": 3
   },
   "file_extension": ".py",
   "mimetype": "text/x-python",
   "name": "python",
   "nbconvert_exporter": "python",
   "pygments_lexer": "ipython3",
   "version": "3.11.0rc1"
  }
 },
 "nbformat": 4,
 "nbformat_minor": 5
}
